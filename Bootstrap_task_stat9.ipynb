{
 "cells": [
  {
   "cell_type": "markdown",
   "metadata": {},
   "source": [
    "Есть датасет с непрерывной переменной. В нём содержатся контрольные значения и тестовые (экспериментальные).\n",
    "Задача: сравнить группы bootstrap-способом (отдельно для среднего и медианы) и с помощью U-критерия Манна-Уитни."
   ]
  },
  {
   "cell_type": "code",
   "execution_count": 18,
   "metadata": {},
   "outputs": [],
   "source": [
    "import pandas as pd\n",
    "import numpy as np\n",
    "from scipy.stats import norm, mannwhitneyu\n",
    "import seaborn as sns\n",
    "import matplotlib.pyplot as plt\n",
    "\n",
    "#from tqdm.auto import tqdm - прогресс-бар\n",
    "\n",
    "plt.style.use('ggplot')"
   ]
  },
  {
   "cell_type": "code",
   "execution_count": 11,
   "metadata": {},
   "outputs": [],
   "source": [
    "# Прочтём датасет с учётом разделителя и сразу удалим лишнюю колонку\n",
    "df = pd.read_csv('hw_bootstrap.csv', sep=';').drop(columns=['Unnamed: 0'])"
   ]
  },
  {
   "cell_type": "code",
   "execution_count": 12,
   "metadata": {},
   "outputs": [
    {
     "data": {
      "text/html": [
       "<div>\n",
       "<style scoped>\n",
       "    .dataframe tbody tr th:only-of-type {\n",
       "        vertical-align: middle;\n",
       "    }\n",
       "\n",
       "    .dataframe tbody tr th {\n",
       "        vertical-align: top;\n",
       "    }\n",
       "\n",
       "    .dataframe thead th {\n",
       "        text-align: right;\n",
       "    }\n",
       "</style>\n",
       "<table border=\"1\" class=\"dataframe\">\n",
       "  <thead>\n",
       "    <tr style=\"text-align: right;\">\n",
       "      <th></th>\n",
       "      <th>value</th>\n",
       "      <th>experimentVariant</th>\n",
       "    </tr>\n",
       "  </thead>\n",
       "  <tbody>\n",
       "    <tr>\n",
       "      <th>0</th>\n",
       "      <td>10,3804953740268</td>\n",
       "      <td>Control</td>\n",
       "    </tr>\n",
       "    <tr>\n",
       "      <th>1</th>\n",
       "      <td>9,54686666784264</td>\n",
       "      <td>Control</td>\n",
       "    </tr>\n",
       "    <tr>\n",
       "      <th>2</th>\n",
       "      <td>11,0882146509904</td>\n",
       "      <td>Control</td>\n",
       "    </tr>\n",
       "    <tr>\n",
       "      <th>3</th>\n",
       "      <td>10,1472740570122</td>\n",
       "      <td>Control</td>\n",
       "    </tr>\n",
       "    <tr>\n",
       "      <th>4</th>\n",
       "      <td>9,78980767524929</td>\n",
       "      <td>Control</td>\n",
       "    </tr>\n",
       "  </tbody>\n",
       "</table>\n",
       "</div>"
      ],
      "text/plain": [
       "              value experimentVariant\n",
       "0  10,3804953740268           Control\n",
       "1  9,54686666784264           Control\n",
       "2  11,0882146509904           Control\n",
       "3  10,1472740570122           Control\n",
       "4  9,78980767524929           Control"
      ]
     },
     "execution_count": 12,
     "metadata": {},
     "output_type": "execute_result"
    }
   ],
   "source": [
    "df.head()"
   ]
  },
  {
   "cell_type": "code",
   "execution_count": 13,
   "metadata": {},
   "outputs": [
    {
     "data": {
      "text/plain": [
       "value                object\n",
       "experimentVariant    object\n",
       "dtype: object"
      ]
     },
     "execution_count": 13,
     "metadata": {},
     "output_type": "execute_result"
    }
   ],
   "source": [
    "df.dtypes"
   ]
  },
  {
   "cell_type": "code",
   "execution_count": 14,
   "metadata": {},
   "outputs": [
    {
     "data": {
      "text/plain": [
       "value                float64\n",
       "experimentVariant     object\n",
       "dtype: object"
      ]
     },
     "execution_count": 14,
     "metadata": {},
     "output_type": "execute_result"
    }
   ],
   "source": [
    "# Преобразовуем value в численный тип данных\n",
    "df.value = df.value.str.replace(',', '.')\n",
    "df = df.astype({\"value\": \"float\"})\n",
    "df.dtypes"
   ]
  },
  {
   "cell_type": "code",
   "execution_count": 15,
   "metadata": {},
   "outputs": [
    {
     "data": {
      "text/plain": [
       "Treatment    500\n",
       "Control      500\n",
       "Name: experimentVariant, dtype: int64"
      ]
     },
     "execution_count": 15,
     "metadata": {},
     "output_type": "execute_result"
    }
   ],
   "source": [
    "df.experimentVariant.value_counts()"
   ]
  },
  {
   "cell_type": "code",
   "execution_count": 83,
   "metadata": {},
   "outputs": [
    {
     "data": {
      "text/plain": [
       "<matplotlib.axes._subplots.AxesSubplot at 0x7f1fed69da20>"
      ]
     },
     "execution_count": 83,
     "metadata": {},
     "output_type": "execute_result"
    },
    {
     "data": {
      "image/png": "[encoded data removed]",
      "text/plain": [
       "<Figure size 432x288 with 1 Axes>"
      ]
     },
     "metadata": {},
     "output_type": "display_data"
    }
   ],
   "source": [
    "# Диаграмма рассеяния указывает на наличие выбросов \n",
    "# (что наряду с отклонением от нормального распределения (ниже) обуславливает применение критерия Манна-Уитни)\n",
    "# Наличие экстремальных значений также обуславливает использование медианы как показателя, характеризующего\n",
    "# центральную тенденцию\n",
    "sns.scatterplot(data=df.value)"
   ]
  },
  {
   "cell_type": "code",
   "execution_count": 84,
   "metadata": {},
   "outputs": [
    {
     "name": "stderr",
     "output_type": "stream",
     "text": [
      "/opt/tljh/user/lib/python3.7/site-packages/seaborn/distributions.py:2557: FutureWarning: `distplot` is a deprecated function and will be removed in a future version. Please adapt your code to use either `displot` (a figure-level function with similar flexibility) or `histplot` (an axes-level function for histograms).\n",
      "  warnings.warn(msg, FutureWarning)\n"
     ]
    },
    {
     "data": {
      "text/plain": [
       "<matplotlib.axes._subplots.AxesSubplot at 0x7f1fed6b87b8>"
      ]
     },
     "execution_count": 84,
     "metadata": {},
     "output_type": "execute_result"
    },
    {
     "data": {
      "image/png": "[encoded data removed]",
      "text/plain": [
       "<Figure size 432x288 with 1 Axes>"
      ]
     },
     "metadata": {},
     "output_type": "display_data"
    }
   ],
   "source": [
    "sns.distplot(df.value)"
   ]
  },
  {
   "cell_type": "code",
   "execution_count": 27,
   "metadata": {},
   "outputs": [],
   "source": [
    "control_row = df[df.experimentVariant == 'Control'].value\n",
    "treatment_row = df[df.experimentVariant == 'Treatment'].value"
   ]
  },
  {
   "cell_type": "code",
   "execution_count": 50,
   "metadata": {},
   "outputs": [],
   "source": [
    "def get_bootstrap(\n",
    "    data_column_1,\n",
    "    data_column_2,\n",
    "    boot_it = 1000,\n",
    "    statistic = np.mean,\n",
    "    bootstrap_conf_level = 0.95\n",
    "):\n",
    "# Собираем распределение статистического параметра\n",
    "    boot_len = max([len(data_column_1), len(data_column_2)])\n",
    "    boot_data = []\n",
    "    for i in range(boot_it):\n",
    "        samples_1 = data_column_1.sample(boot_len, replace=True).values\n",
    "        samples_2 = data_column_2.sample(boot_len, replace=True).values\n",
    "        boot_data.append(statistic(samples_1 - samples_2))\n",
    "        \n",
    "    pd_boot_data = pd.DataFrame(boot_data)\n",
    "    left_quant = (1 - bootstrap_conf_level) / 2\n",
    "    right_quant = 1 - (1 - bootstrap_conf_level) / 2\n",
    "    ci = pd_boot_data.quantile([left_quant, right_quant])\n",
    "    \n",
    "    p_1 = norm.cdf(x=0, loc=np.mean(boot_data), scale = np.std(boot_data))\n",
    "    p_2 = norm.cdf(x=0, loc=-np.mean(boot_data), scale = np.std(boot_data))\n",
    "    p_value = min(p_1, p_2) * 2\n",
    "    \n",
    "    #plt.hist(pd_boot_data[0], bins=50)\n",
    "    \n",
    "    #plt.style.use('ggplot')\n",
    "    #plt.vlines(ci, ymin=0, ymax=50, linestyle='--')\n",
    "    #plt.xlabel('boot_data')\n",
    "    #plt.ylabel('frequency')\n",
    "    #plt.title(\"Histogram of boot_data\")\n",
    "    #plt.show()\n",
    "    \n",
    "    return {\"boot_data\": boot_data,\n",
    "            \"ci\": ci,\n",
    "            \"p_value\": p_value}"
   ]
  },
  {
   "cell_type": "code",
   "execution_count": 51,
   "metadata": {},
   "outputs": [],
   "source": [
    "mean_boot = get_bootstrap(control_row, treatment_row, boot_it=1000)"
   ]
  },
  {
   "cell_type": "code",
   "execution_count": 52,
   "metadata": {},
   "outputs": [
    {
     "name": "stdout",
     "output_type": "stream",
     "text": [
      "Доверительный интервал: ci =                0\n",
      "0.025 -34.323554\n",
      "0.975  -2.978516,\n",
      "p_value = 0.03751988436931902\n"
     ]
    }
   ],
   "source": [
    "print(f'Доверительный интервал: ci = {mean_boot[\"ci\"]},\\np_value = {mean_boot[\"p_value\"]}')"
   ]
  },
  {
   "cell_type": "code",
   "execution_count": 53,
   "metadata": {},
   "outputs": [],
   "source": [
    "median_boot = get_bootstrap(control_row, treatment_row, boot_it=1000, statistic=np.median)"
   ]
  },
  {
   "cell_type": "code",
   "execution_count": 54,
   "metadata": {},
   "outputs": [
    {
     "name": "stdout",
     "output_type": "stream",
     "text": [
      "Доверительный интервал: ci =               0\n",
      "0.025 -0.157697\n",
      "0.975  0.124356,\n",
      "p_value = 0.84613708382962\n"
     ]
    }
   ],
   "source": [
    "print(f'Доверительный интервал: ci = {median_boot[\"ci\"]},\\np_value = {median_boot[\"p_value\"]}')"
   ]
  },
  {
   "cell_type": "code",
   "execution_count": 55,
   "metadata": {},
   "outputs": [
    {
     "data": {
      "text/plain": [
       "MannwhitneyuResult(statistic=124189.5, pvalue=0.8592148582485579)"
      ]
     },
     "execution_count": 55,
     "metadata": {},
     "output_type": "execute_result"
    }
   ],
   "source": [
    "mannwhitneyu(control_row, treatment_row)"
   ]
  },
  {
   "cell_type": "code",
   "execution_count": 64,
   "metadata": {},
   "outputs": [
    {
     "name": "stdout",
     "output_type": "stream",
     "text": [
      "Boot_mean: 0.03751988436931902 Boot_median: 0.84613708382962 MW: 0.8592148582485579\n"
     ]
    }
   ],
   "source": [
    "print(f'Boot_mean: {mean_boot[\"p_value\"]} Boot_median: {median_boot[\"p_value\"]}\\\n",
    " MW: {mannwhitneyu(control_row, treatment_row).pvalue}')"
   ]
  },
  {
   "cell_type": "code",
   "execution_count": 65,
   "metadata": {},
   "outputs": [
    {
     "name": "stdout",
     "output_type": "stream",
     "text": [
      "Boot_mean: 0.039411065142156254 Boot_median: 0.9211117795785101 MW: 0.8592148582485579\n",
      "Boot_mean: 0.04029187273492872 Boot_median: 0.9013724716955902 MW: 0.8592148582485579\n",
      "Boot_mean: 0.03770668557201398 Boot_median: 0.8332625038698089 MW: 0.8592148582485579\n",
      "Boot_mean: 0.036076455579720515 Boot_median: 0.8945789271068968 MW: 0.8592148582485579\n",
      "Boot_mean: 0.044643526248487886 Boot_median: 0.8837756629974545 MW: 0.8592148582485579\n",
      "Boot_mean: 0.03360608913873422 Boot_median: 0.8877406328512458 MW: 0.8592148582485579\n",
      "Boot_mean: 0.04004299320184837 Boot_median: 0.9121050067972252 MW: 0.8592148582485579\n",
      "Boot_mean: 0.0407766722330718 Boot_median: 0.8895862880971148 MW: 0.8592148582485579\n",
      "Boot_mean: 0.04211621176770904 Boot_median: 0.8552091650790816 MW: 0.8592148582485579\n",
      "Boot_mean: 0.04743099602198906 Boot_median: 0.8623213544185542 MW: 0.8592148582485579\n"
     ]
    }
   ],
   "source": [
    "# Для минимизации случайных факторов проведём бутстрап 10 раз\n",
    "for i in range(10):\n",
    "    mean_boot = get_bootstrap(control_row, treatment_row, boot_it=1000)\n",
    "    median_boot = get_bootstrap(control_row, treatment_row, boot_it=1000, statistic=np.median)\n",
    "    print(f'Boot_mean: {mean_boot[\"p_value\"]} Boot_median: {median_boot[\"p_value\"]}\\\n",
    " MW: {mannwhitneyu(control_row, treatment_row).pvalue}')"
   ]
  },
  {
   "cell_type": "code",
   "execution_count": null,
   "metadata": {},
   "outputs": [],
   "source": [
    "# Значения p-value при бутстрапе для медианы \"схожи\" со значениями p-value \n",
    "# по критерию Манна-Уитни (переводит переменные в ранговые), при этом это значение показывает,\n",
    "# что мы не можем отклонить нулевую гипотезу, т.е. различий в распределениях переменных между контрольной и\n",
    "# тестовой выборкой нет."
   ]
  }
 ],
 "metadata": {
  "kernelspec": {
   "display_name": "Python 3 (ipykernel)",
   "language": "python",
   "name": "python3"
  },
  "language_info": {
   "codemirror_mode": {
    "name": "ipython",
    "version": 3
   },
   "file_extension": ".py",
   "mimetype": "text/x-python",
   "name": "python",
   "nbconvert_exporter": "python",
   "pygments_lexer": "ipython3",
   "version": "3.8.10"
  }
 },
 "nbformat": 4,
 "nbformat_minor": 4
}
